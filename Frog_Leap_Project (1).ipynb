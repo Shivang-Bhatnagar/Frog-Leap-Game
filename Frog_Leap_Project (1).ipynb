{
 "cells": [
  {
   "cell_type": "markdown",
   "metadata": {},
   "source": [
    "# Problem Statement\n",
    "\n",
    "Create famous 'Frog leap' puzzle game. Try completing the game before starting to get an idea about its working. Demonstration.\n",
    "\n",
    "# Rules\n",
    " \n",
    "1.The left set of frogs can only move right, the right set of frogs can only move left.\n",
    "2.Frogs can move forward one space, or move two spaces by jumping over another frog from opposite side.\n",
    "3.The puzzle is solved when the two sets of frogs have switched positions.\n",
    "\n",
    "# Code\n",
    "\n",
    "\n",
    "\n",
    "            "
   ]
  },
  {
   "cell_type": "markdown",
   "metadata": {},
   "source": [
    " "
   ]
  },
  {
   "cell_type": "code",
   "execution_count": null,
   "metadata": {
    "scrolled": false
   },
   "outputs": [],
   "source": [
    "positions = ['G','G','G','-','B','B','B']\n",
    "frog_pos = [0,1,2,3,4,5,6]\n",
    "\n",
    "for i in range(len(frog_pos)):\n",
    "    Input_user = input('Press q to quit else \\nEnter position of piece:')\n",
    "    if Input_user.lower() == 'q':\n",
    "        print('You Lose')\n",
    "        break\n",
    "    try:\n",
    "        Input_user = int(Input_user)\n",
    "        \n",
    "        if Input_user not in frog_pos:\n",
    "            print('Invalid move')\n",
    "            continue\n",
    "        else:\n",
    "            if positions[Input_user] == '-':\n",
    "                print('Invalid move')\n",
    "                continue\n",
    "                \n",
    "            if positions[Input_user] not in ('G','B'):\n",
    "                print('Invalid move')\n",
    "                continue\n",
    "                \n",
    "            pos2 = Input_user - 1 if positions[Input_user] == 'B' else Input_user + 1\n",
    "                \n",
    "            if positions[Input_user] == 'G':\n",
    "                if Input_user + 1 <= 6 and positions[Input_user + 1] == '-':\n",
    "                    pos2 = Input_user + 1\n",
    "                elif Input_user + 2 <= 6 and positions[Input_user + 2] == '-' and positions[Input_user + 1] == 'B':\n",
    "                    pos2 = Input_user + 2\n",
    "                else:\n",
    "                    print('Invalid move')\n",
    "                    continue\n",
    "                    \n",
    "            elif positions[Input_user] == 'B':\n",
    "                if Input_user - 1 >= 0 and positions[Input_user - 1] == '-':\n",
    "                    pos2 = Input_user - 1\n",
    "                elif Input_user - 2 >= 0 and positions[Input_user - 2] == '-' and positions[Input_user - 1] == 'G':\n",
    "                    pos2 = Input_user - 2\n",
    "                else:\n",
    "                    print('Invalid move')\n",
    "                    continue\n",
    "            \n",
    "            positions[Input_user], positions[pos2] = positions[pos2], positions[Input_user]\n",
    "            \n",
    "            print(\"Indices:\", list(range(len(positions))))\n",
    "            print(\"Positions:\", positions)\n",
    "            \n",
    "            if positions == ['B','B','B','-','G','G','G']:\n",
    "                print(\"Congratulations you win\")\n",
    "                break\n",
    "            \n",
    "    except ValueError:\n",
    "        print('Invalid move')\n",
    "            \n",
    "            \n",
    "                \n"
   ]
  },
  {
   "cell_type": "code",
   "execution_count": null,
   "metadata": {},
   "outputs": [],
   "source": []
  }
 ],
 "metadata": {
  "kernelspec": {
   "display_name": "Python 3",
   "language": "python",
   "name": "python3"
  },
  "language_info": {
   "codemirror_mode": {
    "name": "ipython",
    "version": 3
   },
   "file_extension": ".py",
   "mimetype": "text/x-python",
   "name": "python",
   "nbconvert_exporter": "python",
   "pygments_lexer": "ipython3",
   "version": "3.8.3"
  }
 },
 "nbformat": 4,
 "nbformat_minor": 4
}
